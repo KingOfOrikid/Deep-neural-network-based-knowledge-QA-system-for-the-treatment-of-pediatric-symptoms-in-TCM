{
 "cells": [
  {
   "cell_type": "code",
   "execution_count": 7,
   "id": "2a4385a5",
   "metadata": {},
   "outputs": [],
   "source": [
    "f = open('E:\\\\毕业论文相关\\\\毕业论文\\\\代码\\\\Train\\\\lattcie ner\\\\fyz-lattcie\\\\cyx\\\\final\\\\dev.txt','r',encoding = 'utf-8')\n",
    "dev = f.readlines()"
   ]
  },
  {
   "cell_type": "code",
   "execution_count": 9,
   "id": "5fc64285",
   "metadata": {},
   "outputs": [],
   "source": [
    "f = open('E:\\\\毕业论文相关\\\\毕业论文\\\\代码\\\\Train\\\\lattcie ner\\\\fyz-lattcie\\\\cyx\\\\final\\\\train.txt','r',encoding = 'utf-8')\n",
    "train = f.readlines()"
   ]
  },
  {
   "cell_type": "code",
   "execution_count": 10,
   "id": "d2010371",
   "metadata": {},
   "outputs": [],
   "source": [
    "f = open('E:\\\\毕业论文相关\\\\毕业论文\\\\代码\\\\Train\\\\lattcie ner\\\\fyz-lattcie\\\\cyx\\\\final\\\\test.txt','r',encoding = 'utf-8')\n",
    "test = f.readlines()"
   ]
  },
  {
   "cell_type": "code",
   "execution_count": 24,
   "id": "5d855e20",
   "metadata": {},
   "outputs": [],
   "source": [
    "dev_data = []\n",
    "temp1 = []\n",
    "temp2 = []\n",
    "for i in dev:\n",
    "    strr = i.replace('\\t',' ')\n",
    "    strr = strr.replace('\\n','')\n",
    "    temp_lst = strr.split()\n",
    "    if strr == '':\n",
    "        dev_data.append([temp1,temp2])\n",
    "        temp1 = []\n",
    "        temp2 = []\n",
    "    else:\n",
    "        temp1.append(temp_lst[0])\n",
    "        temp2.append(temp_lst[1])"
   ]
  },
  {
   "cell_type": "code",
   "execution_count": 26,
   "id": "13e84fb5",
   "metadata": {},
   "outputs": [],
   "source": [
    "test_data = []\n",
    "temp1 = []\n",
    "temp2 = []\n",
    "for i in test:\n",
    "    strr = i.replace('\\t',' ')\n",
    "    strr = strr.replace('\\n','')\n",
    "    temp_lst = strr.split()\n",
    "    if strr == '':\n",
    "        test_data.append([temp1,temp2])\n",
    "        temp1 = []\n",
    "        temp2 = []\n",
    "    else:\n",
    "        temp1.append(temp_lst[0])\n",
    "        temp2.append(temp_lst[1])"
   ]
  },
  {
   "cell_type": "code",
   "execution_count": 28,
   "id": "b39ac7ce",
   "metadata": {},
   "outputs": [],
   "source": [
    "train_data = []\n",
    "temp1 = []\n",
    "temp2 = []\n",
    "for i in train:\n",
    "    strr = i.replace('\\t',' ')\n",
    "    strr = strr.replace('\\n','')\n",
    "    temp_lst = strr.split()\n",
    "    if strr == '':\n",
    "        train_data.append([temp1,temp2])\n",
    "        temp1 = []\n",
    "        temp2 = []\n",
    "    else:\n",
    "        temp1.append(temp_lst[0])\n",
    "        temp2.append(temp_lst[1])"
   ]
  },
  {
   "cell_type": "code",
   "execution_count": null,
   "id": "56c25d17",
   "metadata": {},
   "outputs": [],
   "source": []
  }
 ],
 "metadata": {
  "kernelspec": {
   "display_name": "Python 3 (ipykernel)",
   "language": "python",
   "name": "python3"
  },
  "language_info": {
   "codemirror_mode": {
    "name": "ipython",
    "version": 3
   },
   "file_extension": ".py",
   "mimetype": "text/x-python",
   "name": "python",
   "nbconvert_exporter": "python",
   "pygments_lexer": "ipython3",
   "version": "3.9.7"
  }
 },
 "nbformat": 4,
 "nbformat_minor": 5
}
